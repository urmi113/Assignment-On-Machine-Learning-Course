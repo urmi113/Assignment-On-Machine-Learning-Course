{
  "nbformat": 4,
  "nbformat_minor": 0,
  "metadata": {
    "colab": {
      "provenance": [],
      "authorship_tag": "ABX9TyPrZAw8CBZYXYV8QEdZ1fMN",
      "include_colab_link": true
    },
    "kernelspec": {
      "name": "python3",
      "display_name": "Python 3"
    },
    "language_info": {
      "name": "python"
    }
  },
  "cells": [
    {
      "cell_type": "markdown",
      "metadata": {
        "id": "view-in-github",
        "colab_type": "text"
      },
      "source": [
        "<a href=\"https://colab.research.google.com/github/urmi113/Assignment-On-Machine-Learning-Course/blob/main/Data_preparation_and_preprocessing_.ipynb\" target=\"_parent\"><img src=\"https://colab.research.google.com/assets/colab-badge.svg\" alt=\"Open In Colab\"/></a>"
      ]
    },
    {
      "cell_type": "code",
      "execution_count": 11,
      "metadata": {
        "id": "vfxorHG6XBd4"
      },
      "outputs": [],
      "source": [
        "import matplotlib.pyplot as plt\n",
        "import numpy as np\n",
        "import pandas as pd\n",
        "\n",
        "from sklearn.metrics import classification_report\n",
        "from sklearn.datasets import make_blobs\n",
        "from sklearn.model_selection import train_test_split\n",
        "from sklearn.preprocessing import MinMaxScaler, StandardScaler"
      ]
    },
    {
      "cell_type": "markdown",
      "source": [
        "Mount Google Drive\n"
      ],
      "metadata": {
        "id": "fhg7gvNubxtk"
      }
    },
    {
      "cell_type": "code",
      "source": [
        "from google.colab import drive\n",
        "drive.mount('/content/drive')"
      ],
      "metadata": {
        "colab": {
          "base_uri": "https://localhost:8080/"
        },
        "id": "Y5LlqjTMb18J",
        "outputId": "b944c2b3-672e-4cf1-b100-3bed42cff976"
      },
      "execution_count": 12,
      "outputs": [
        {
          "output_type": "stream",
          "name": "stdout",
          "text": [
            "Drive already mounted at /content/drive; to attempt to forcibly remount, call drive.mount(\"/content/drive\", force_remount=True).\n"
          ]
        }
      ]
    },
    {
      "cell_type": "code",
      "source": [
        "\n",
        "path = '/content/drive/MyDrive/Important Dataset/breast-cancer-dataset.csv'\n",
        "df = pd.read_csv(path)\n",
        "\n"
      ],
      "metadata": {
        "id": "g9tTM5YDcRzl"
      },
      "execution_count": 13,
      "outputs": []
    },
    {
      "cell_type": "code",
      "source": [
        "df.head"
      ],
      "metadata": {
        "colab": {
          "base_uri": "https://localhost:8080/"
        },
        "id": "n_is6SfPfKcq",
        "outputId": "52eabde4-1be9-4521-aaf7-65f9e8b1b78e"
      },
      "execution_count": 14,
      "outputs": [
        {
          "output_type": "execute_result",
          "data": {
            "text/plain": [
              "<bound method NDFrame.head of           id  clump_thickness  uniform_cell_size  uniform_cell_shape  \\\n",
              "0    1000025                5                  1                   1   \n",
              "1    1002945                5                  4                   4   \n",
              "2    1015425                3                  1                   1   \n",
              "3    1016277                6                  8                   8   \n",
              "4    1017023                4                  1                   1   \n",
              "..       ...              ...                ...                 ...   \n",
              "694   776715                3                  1                   1   \n",
              "695   841769                2                  1                   1   \n",
              "696   888820                5                 10                  10   \n",
              "697   897471                4                  8                   6   \n",
              "698   897471                4                  8                   8   \n",
              "\n",
              "     marginal_adhesion  single_epi_cell_size bare_nuclei  bland_chromation  \\\n",
              "0                    1                     2           1                 3   \n",
              "1                    5                     7          10                 3   \n",
              "2                    1                     2           2                 3   \n",
              "3                    1                     3           4                 3   \n",
              "4                    3                     2           1                 3   \n",
              "..                 ...                   ...         ...               ...   \n",
              "694                  1                     3           2                 1   \n",
              "695                  1                     2           1                 1   \n",
              "696                  3                     7           3                 8   \n",
              "697                  4                     3           4                10   \n",
              "698                  5                     4           5                10   \n",
              "\n",
              "     normal_nucleoli  mitoses  class  \n",
              "0                  1        1      2  \n",
              "1                  2        1      2  \n",
              "2                  1        1      2  \n",
              "3                  7        1      2  \n",
              "4                  1        1      2  \n",
              "..               ...      ...    ...  \n",
              "694                1        1      2  \n",
              "695                1        1      2  \n",
              "696               10        2      4  \n",
              "697                6        1      4  \n",
              "698                4        1      4  \n",
              "\n",
              "[699 rows x 11 columns]>"
            ]
          },
          "metadata": {},
          "execution_count": 14
        }
      ]
    },
    {
      "cell_type": "code",
      "source": [
        "# Drop the missing or non-numeric value\n",
        "df.dropna(inplace=True)\n",
        "df = df._get_numeric_data()\n",
        "\n",
        "# Drop the ID column\n",
        "df.drop(['id'], 1, inplace=True)\n",
        "\n",
        "# Create features and labels arrays X and y\n",
        "X = np.array(df.drop(['class'], 1))\n",
        "y = np.array(df['class'])"
      ],
      "metadata": {
        "colab": {
          "base_uri": "https://localhost:8080/"
        },
        "id": "rbnxUkvehMZf",
        "outputId": "d385d11a-1eef-45f4-cb27-09ccbadeaee5"
      },
      "execution_count": 15,
      "outputs": [
        {
          "output_type": "stream",
          "name": "stderr",
          "text": [
            "<ipython-input-15-c34ddd15c8de>:6: FutureWarning: In a future version of pandas all arguments of DataFrame.drop except for the argument 'labels' will be keyword-only.\n",
            "  df.drop(['id'], 1, inplace=True)\n",
            "<ipython-input-15-c34ddd15c8de>:9: FutureWarning: In a future version of pandas all arguments of DataFrame.drop except for the argument 'labels' will be keyword-only.\n",
            "  X = np.array(df.drop(['class'], 1))\n"
          ]
        }
      ]
    },
    {
      "cell_type": "code",
      "source": [
        "# Scale/Standardize the features array X (use Minmax or Standard scaling)\n",
        "#   and transform the feature array y to a binary array 0 or 1\n",
        "scaler = MinMaxScaler(feature_range=(0, 1))\n",
        "X = scaler.fit_transform(X)"
      ],
      "metadata": {
        "id": "YQbZNzIthXVY"
      },
      "execution_count": 16,
      "outputs": []
    },
    {
      "cell_type": "code",
      "source": [
        "# Split the arrays into training and test arrays (4 resulting arrays)\n",
        "y = np.array(y == 4).astype(int)\n",
        "\n",
        "X_train, X_test, y_train, y_test = train_test_split(X, y, test_size=0.1)\n",
        "\n",
        "print(X_train.shape)\n",
        "print(X_test.shape)\n",
        "print(y_train.shape)\n",
        "print(y_test.shape)"
      ],
      "metadata": {
        "colab": {
          "base_uri": "https://localhost:8080/"
        },
        "id": "gVMZ8koohb2k",
        "outputId": "36a491ef-6fd6-41ae-8c95-d4218d8496a8"
      },
      "execution_count": 17,
      "outputs": [
        {
          "output_type": "stream",
          "name": "stdout",
          "text": [
            "(629, 8)\n",
            "(70, 8)\n",
            "(629,)\n",
            "(70,)\n"
          ]
        }
      ]
    },
    {
      "cell_type": "code",
      "source": [],
      "metadata": {
        "id": "Apq2JhDthecJ"
      },
      "execution_count": null,
      "outputs": []
    }
  ]
}